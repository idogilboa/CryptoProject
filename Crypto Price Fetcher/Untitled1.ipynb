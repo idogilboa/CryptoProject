{
 "cells": [
  {
   "cell_type": "code",
   "execution_count": 9,
   "metadata": {},
   "outputs": [
    {
     "name": "stderr",
     "output_type": "stream",
     "text": [
      "/Users/oravner/anaconda3/envs/py35/lib/python3.5/site-packages/ipykernel_launcher.py:17: UserWarning: Overwriting bundle with name 'btc-csvdir-bundle'\n"
     ]
    },
    {
     "data": {
      "text/plain": [
       "<bound method CSVDIRBundle.ingest of <zipline.data.bundles.csvdir.CSVDIRBundle object at 0x1a1f155940>>"
      ]
     },
     "execution_count": 9,
     "metadata": {},
     "output_type": "execute_result"
    }
   ],
   "source": [
    "import pandas as pd\n",
    "\n",
    "from zipline.data.bundles import register\n",
    "from zipline.data.bundles.csvdir import csvdir_equities\n",
    "\n",
    "start_session = pd.Timestamp('2016-03-17', tz='utc')\n",
    "end_session = pd.Timestamp('2018-04-17', tz='utc')\n",
    "\n",
    "register(\n",
    "    'btc-csvdir-bundle',\n",
    "    csvdir_equities(\n",
    "        ['minute'],\n",
    "        '/backups/060518/BTC.csv',\n",
    "    ),\n",
    "    calendar_name='NYSE', # US equities\n",
    "    start_session=start_session,\n",
    "    end_session=end_session\n",
    ")\n",
    "\n"
   ]
  },
  {
   "cell_type": "code",
   "execution_count": 10,
   "metadata": {},
   "outputs": [
    {
     "name": "stdout",
     "output_type": "stream",
     "text": [
      "<bound method CSVDIRBundle.ingest of <zipline.data.bundles.csvdir.CSVDIRBundle object at 0x1a1f155940>>\n"
     ]
    }
   ],
   "source": [
    "print(_)"
   ]
  },
  {
   "cell_type": "code",
   "execution_count": 3,
   "metadata": {},
   "outputs": [],
   "source": []
  },
  {
   "cell_type": "code",
   "execution_count": null,
   "metadata": {},
   "outputs": [],
   "source": []
  }
 ],
 "metadata": {
  "kernelspec": {
   "display_name": "Python 3",
   "language": "python",
   "name": "python3"
  },
  "language_info": {
   "codemirror_mode": {
    "name": "ipython",
    "version": 3
   },
   "file_extension": ".py",
   "mimetype": "text/x-python",
   "name": "python",
   "nbconvert_exporter": "python",
   "pygments_lexer": "ipython3",
   "version": "3.5.5"
  }
 },
 "nbformat": 4,
 "nbformat_minor": 2
}
